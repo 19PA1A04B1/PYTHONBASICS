{
  "nbformat": 4,
  "nbformat_minor": 0,
  "metadata": {
    "colab": {
      "name": "date time and dictionary.ipynb",
      "provenance": [],
      "authorship_tag": "ABX9TyMUeAg9CeUguFXvah8GtgdQ",
      "include_colab_link": true
    },
    "kernelspec": {
      "name": "python3",
      "display_name": "Python 3"
    }
  },
  "cells": [
    {
      "cell_type": "markdown",
      "metadata": {
        "id": "view-in-github",
        "colab_type": "text"
      },
      "source": [
        "<a href=\"https://colab.research.google.com/github/19PA1A04B1/PYTHONBASICS/blob/master/date_time_and_dictionary.ipynb\" target=\"_parent\"><img src=\"https://colab.research.google.com/assets/colab-badge.svg\" alt=\"Open In Colab\"/></a>"
      ]
    },
    {
      "cell_type": "code",
      "metadata": {
        "id": "pdWZB2DbgGSW",
        "colab_type": "code",
        "colab": {
          "base_uri": "https://localhost:8080/",
          "height": 34
        },
        "outputId": "ab585d25-0b2e-4077-f82b-d0600d9059e2"
      },
      "source": [
        "import datetime\n",
        "a=datetime.datetime.now()\n",
        "print(a)\n"
      ],
      "execution_count": 12,
      "outputs": [
        {
          "output_type": "stream",
          "text": [
            "2020-02-04 05:30:20.896670\n"
          ],
          "name": "stdout"
        }
      ]
    },
    {
      "cell_type": "code",
      "metadata": {
        "id": "-5RwdB4BjyiN",
        "colab_type": "code",
        "colab": {
          "base_uri": "https://localhost:8080/",
          "height": 153
        },
        "outputId": "847e4a93-53a8-48eb-b499-fce23889d6cf"
      },
      "source": [
        "fueltype={\"petrol\":1,\"diesel\":2,\"kerosene\":3}\n",
        "print(fueltype)\n",
        "print(fueltype[\"petrol\"])\n",
        "print(fueltype.keys())\n",
        "print(fueltype.values())\n",
        "print(fueltype.items())\n",
        "fueltype[\"cng\"]=4\n",
        "print(fueltype)\n",
        "print(fueltype[\"petrol\"])\n",
        "fueltype.update({\"electrical\":5})\n",
        "print(fueltype)\n"
      ],
      "execution_count": 34,
      "outputs": [
        {
          "output_type": "stream",
          "text": [
            "{'petrol': 1, 'diesel': 2, 'kerosene': 3}\n",
            "1\n",
            "dict_keys(['petrol', 'diesel', 'kerosene'])\n",
            "dict_values([1, 2, 3])\n",
            "dict_items([('petrol', 1), ('diesel', 2), ('kerosene', 3)])\n",
            "{'petrol': 1, 'diesel': 2, 'kerosene': 3, 'cng': 4}\n",
            "1\n",
            "{'petrol': 1, 'diesel': 2, 'kerosene': 3, 'cng': 4, 'electrical': 5}\n"
          ],
          "name": "stdout"
        }
      ]
    }
  ]
}