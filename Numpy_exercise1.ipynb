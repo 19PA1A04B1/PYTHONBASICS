{
  "nbformat": 4,
  "nbformat_minor": 0,
  "metadata": {
    "colab": {
      "name": "Numpy_exercise1.ipynb",
      "provenance": [],
      "collapsed_sections": [],
      "include_colab_link": true
    },
    "kernelspec": {
      "name": "python3",
      "display_name": "Python 3"
    }
  },
  "cells": [
    {
      "cell_type": "markdown",
      "metadata": {
        "id": "view-in-github",
        "colab_type": "text"
      },
      "source": [
        "<a href=\"https://colab.research.google.com/github/19PA1A04B1/PYTHONBASICS/blob/master/Numpy_exercise1.ipynb\" target=\"_parent\"><img src=\"https://colab.research.google.com/assets/colab-badge.svg\" alt=\"Open In Colab\"/></a>"
      ]
    },
    {
      "cell_type": "markdown",
      "metadata": {
        "id": "W_-FIH4tVZOc",
        "colab_type": "text"
      },
      "source": [
        "# <center>**Numpy Introduction**</center>\n",
        "![alt text](https://miro.medium.com/max/765/1*cyXCE-JcBelTyrK-58w6_Q.png)"
      ]
    },
    {
      "cell_type": "markdown",
      "metadata": {
        "id": "Vgd2-oH4WMjw",
        "colab_type": "text"
      },
      "source": [
        "Numpy is a general-purpose array-processing package...\n",
        "It provides \n",
        "* High performance multi-dimensional arry object....\n",
        "*   Tools to work with these array objects.....\n",
        "* Numpy operations are vectorized..\n",
        "\n"
      ]
    },
    {
      "cell_type": "markdown",
      "metadata": {
        "id": "Khxshy-VXB8s",
        "colab_type": "text"
      },
      "source": [
        "It is mainly used in scientific computing....\n",
        "-----\n",
        "Importing numpy package...."
      ]
    },
    {
      "cell_type": "code",
      "metadata": {
        "id": "-Q5tqgECVjxd",
        "colab_type": "code",
        "colab": {}
      },
      "source": [
        "import numpy as np\n",
        "\n"
      ],
      "execution_count": 0,
      "outputs": []
    },
    {
      "cell_type": "markdown",
      "metadata": {
        "id": "8KWDUNr0bKiy",
        "colab_type": "text"
      },
      "source": [
        "# **Creating 1-D array**\n",
        "* We can create array using lists,tuples as follows"
      ]
    },
    {
      "cell_type": "code",
      "metadata": {
        "id": "ORYz485HdF1G",
        "colab_type": "code",
        "colab": {
          "base_uri": "https://localhost:8080/",
          "height": 34
        },
        "outputId": "9d4fd59c-2b4a-48d6-af4b-8dd89ff1a67f"
      },
      "source": [
        "# create a numpy array using list\n",
        "l=[1,2,3]\n",
        "a=np.array(l)\n",
        "print(a)\n",
        "\n",
        "\n",
        "\n"
      ],
      "execution_count": 21,
      "outputs": [
        {
          "output_type": "stream",
          "text": [
            "[1 2 3]\n"
          ],
          "name": "stdout"
        }
      ]
    },
    {
      "cell_type": "code",
      "metadata": {
        "id": "vmkUQ3w7dYl-",
        "colab_type": "code",
        "colab": {
          "base_uri": "https://localhost:8080/",
          "height": 34
        },
        "outputId": "8fad2638-8f24-432b-e3b6-f450b5b4505c"
      },
      "source": [
        "# create a numpy array from python tuple\n",
        "a=np.array(((1,2,3),(4,5,6)))\n",
        "print(tuple(tuple(a)))"
      ],
      "execution_count": 108,
      "outputs": [
        {
          "output_type": "stream",
          "text": [
            "(array([1, 2, 3]), array([4, 5, 6]))\n"
          ],
          "name": "stdout"
        }
      ]
    },
    {
      "cell_type": "markdown",
      "metadata": {
        "id": "bKKQIfXpbqNQ",
        "colab_type": "text"
      },
      "source": [
        "* Python lists are similar to Numpy Lists...\n",
        "* Then What is the purpose of having numpy arrays....\n",
        "![alt text](https://encrypted-tbn0.gstatic.com/images?q=tbn%3AANd9GcRADkTaMgXw0kSz05Rh7hAaoyGcik9UvBwqYAAVIB9uGJlFlXkJ)"
      ]
    },
    {
      "cell_type": "markdown",
      "metadata": {
        "id": "ynwVok0Hc1Lp",
        "colab_type": "text"
      },
      "source": [
        "* Because numpy arrays are faster and takes less memory..."
      ]
    },
    {
      "cell_type": "code",
      "metadata": {
        "id": "vxoq1AUDYYjO",
        "colab_type": "code",
        "outputId": "0552b23f-8bf4-4e3c-c281-ff284dca1a57",
        "colab": {
          "base_uri": "https://localhost:8080/",
          "height": 52
        }
      },
      "source": [
        "# let's see a program to know the storage of numpy arrays...\n",
        "import sys\n",
        "l1=list(range(1000))\n",
        "a3=np.array(l1)\n",
        "print(\"Amount of memory consumed by python list..\",len(l1)*sys.getsizeof(l1[0]))\n",
        "print(\"Amount of memory consumed by numpy array...\",a3.size*a3.itemsize)"
      ],
      "execution_count": 22,
      "outputs": [
        {
          "output_type": "stream",
          "text": [
            "Amount of memory consumed by python list.. 24000\n",
            "Amount of memory consumed by numpy array... 8000\n"
          ],
          "name": "stdout"
        }
      ]
    },
    {
      "cell_type": "code",
      "metadata": {
        "id": "HuVoPbR0eQ20",
        "colab_type": "code",
        "outputId": "1092e873-22e6-4ebc-a174-3dab6ea6fdb5",
        "colab": {
          "base_uri": "https://localhost:8080/",
          "height": 52
        }
      },
      "source": [
        "# let's see another program to know about time consumed by numpy arrays....\n",
        "import time\n",
        "t1=time.time()\n",
        "for j in range(len(l1)):\n",
        "  l1[j]+=5\n",
        "t2=time.time()\n",
        "a3=a3+5\n",
        "t3=time.time()\n",
        "print(\"Time taken by the list l1 to add 5 to each element of list is...\",(t2-t1)*100000)\n",
        "print(\"Time taken by the numpy array to add 5 to each element of numpy array is...\",(t3-t2)*100000)"
      ],
      "execution_count": 24,
      "outputs": [
        {
          "output_type": "stream",
          "text": [
            "Time taken by the list l1 to add 5 to each element of list is... 25.963783264160156\n",
            "Time taken by the numpy array to add 5 to each element of numpy array is... 123.09551239013672\n"
          ],
          "name": "stdout"
        }
      ]
    },
    {
      "cell_type": "markdown",
      "metadata": {
        "id": "QzMstAkCf30D",
        "colab_type": "text"
      },
      "source": [
        "* This is why we use numpy for scientific computing..."
      ]
    },
    {
      "cell_type": "markdown",
      "metadata": {
        "id": "-uW2JnJeiH96",
        "colab_type": "text"
      },
      "source": [
        "#### We can also create 2-D arrays.... "
      ]
    },
    {
      "cell_type": "markdown",
      "metadata": {
        "id": "aW4wBU5yjTm3",
        "colab_type": "text"
      },
      "source": [
        "* We can also create n-d arrays using python lists and tuples..."
      ]
    },
    {
      "cell_type": "code",
      "metadata": {
        "id": "RoXNNPziiV33",
        "colab_type": "code",
        "colab": {
          "base_uri": "https://localhost:8080/",
          "height": 52
        },
        "outputId": "68c1c2b7-a5f4-48b2-817a-7c85da89fae4"
      },
      "source": [
        "# create a 2-d array using list\n",
        "a=np.array([[1,2,3],[4,5,6,]])\n",
        "print(a)"
      ],
      "execution_count": 28,
      "outputs": [
        {
          "output_type": "stream",
          "text": [
            "[[1 2 3]\n",
            " [4 5 6]]\n"
          ],
          "name": "stdout"
        }
      ]
    },
    {
      "cell_type": "code",
      "metadata": {
        "id": "uLvpvhtXy14u",
        "colab_type": "code",
        "colab": {
          "base_uri": "https://localhost:8080/",
          "height": 52
        },
        "outputId": "087dcb1e-2e8d-4b5a-cf96-38287c40724c"
      },
      "source": [
        "# we can also create n-d arrays with zeros using zeros method\n",
        "a=np.zeros((2,2))\n",
        "print(a)\n"
      ],
      "execution_count": 75,
      "outputs": [
        {
          "output_type": "stream",
          "text": [
            "[[0. 0.]\n",
            " [0. 0.]]\n"
          ],
          "name": "stdout"
        }
      ]
    },
    {
      "cell_type": "code",
      "metadata": {
        "id": "3ECjMoL-z_85",
        "colab_type": "code",
        "colab": {
          "base_uri": "https://localhost:8080/",
          "height": 69
        },
        "outputId": "10d01e28-f3b1-4594-945e-602872c27bfc"
      },
      "source": [
        "# we can also create n-d arrays with ones using ones method\n",
        "a=np.eye(3)\n",
        "print(a)\n"
      ],
      "execution_count": 76,
      "outputs": [
        {
          "output_type": "stream",
          "text": [
            "[[1. 0. 0.]\n",
            " [0. 1. 0.]\n",
            " [0. 0. 1.]]\n"
          ],
          "name": "stdout"
        }
      ]
    },
    {
      "cell_type": "code",
      "metadata": {
        "id": "DYqvn9FSin3p",
        "colab_type": "code",
        "colab": {
          "base_uri": "https://localhost:8080/",
          "height": 52
        },
        "outputId": "8c54096b-a087-4988-8015-63251955bb07"
      },
      "source": [
        "# create a 2-d array using tuples\n",
        "a=np.array([(1,2,3),(4,5,6,)])\n",
        "print(a)\n"
      ],
      "execution_count": 55,
      "outputs": [
        {
          "output_type": "stream",
          "text": [
            "[[1 2 3]\n",
            " [4 5 6]]\n"
          ],
          "name": "stdout"
        }
      ]
    },
    {
      "cell_type": "markdown",
      "metadata": {
        "id": "T7RDK2T4jhvu",
        "colab_type": "text"
      },
      "source": [
        "### Let's explore more about numpy arrays..."
      ]
    },
    {
      "cell_type": "code",
      "metadata": {
        "id": "MCA1AqtSfXWN",
        "colab_type": "code",
        "colab": {
          "base_uri": "https://localhost:8080/",
          "height": 34
        },
        "outputId": "af89595b-3192-480c-bf01-bb95b539d057"
      },
      "source": [
        "# let's see the datatype of numpy arrays....\n",
        "a=np.array([(1.5,2.7,3.4),(4.1,5.2,6.3,)])\n",
        "a.dtype\n",
        "\n"
      ],
      "execution_count": 86,
      "outputs": [
        {
          "output_type": "execute_result",
          "data": {
            "text/plain": [
              "dtype('float64')"
            ]
          },
          "metadata": {
            "tags": []
          },
          "execution_count": 86
        }
      ]
    },
    {
      "cell_type": "code",
      "metadata": {
        "id": "wxe71tltgPjB",
        "colab_type": "code",
        "colab": {
          "base_uri": "https://localhost:8080/",
          "height": 52
        },
        "outputId": "ac9bbfe4-c9de-432f-9acc-0be9497c0fd6"
      },
      "source": [
        "# shape or dimensions of numpy array\n",
        "a=np.array([[1,2,3],[4,5,6],[7,8,9]])\n",
        "print(a.shape)\n",
        "print(a.ndim)"
      ],
      "execution_count": 80,
      "outputs": [
        {
          "output_type": "stream",
          "text": [
            "(3, 3)\n",
            "2\n"
          ],
          "name": "stdout"
        }
      ]
    },
    {
      "cell_type": "code",
      "metadata": {
        "id": "ipyKH1q0iCwi",
        "colab_type": "code",
        "colab": {
          "base_uri": "https://localhost:8080/",
          "height": 34
        },
        "outputId": "d1b15ebb-4c59-4656-9c52-c07551a0ff39"
      },
      "source": [
        "# size of numpy array\n",
        "a=np.array([[1,2,3],[4,5,6],[7,8,9]])\n",
        "a.size\n"
      ],
      "execution_count": 65,
      "outputs": [
        {
          "output_type": "execute_result",
          "data": {
            "text/plain": [
              "9"
            ]
          },
          "metadata": {
            "tags": []
          },
          "execution_count": 65
        }
      ]
    },
    {
      "cell_type": "code",
      "metadata": {
        "id": "kOTKD8anj2Jz",
        "colab_type": "code",
        "colab": {
          "base_uri": "https://localhost:8080/",
          "height": 52
        },
        "outputId": "58a05737-1ff1-43d4-947e-710e2bc4a1d0"
      },
      "source": [
        "# maximum element...\n",
        "a=np.array([[1,2,3],[4,5,6],[7,8,9]])\n",
        "print(a.max())\n",
        "print(a.argmax())\n"
      ],
      "execution_count": 102,
      "outputs": [
        {
          "output_type": "stream",
          "text": [
            "9\n",
            "8\n"
          ],
          "name": "stdout"
        }
      ]
    },
    {
      "cell_type": "markdown",
      "metadata": {
        "id": "AamJFZhLU67j",
        "colab_type": "text"
      },
      "source": [
        "### Generating numbers between a range with a specific difference\n",
        "- using function arange"
      ]
    },
    {
      "cell_type": "code",
      "metadata": {
        "id": "maq66hFskS04",
        "colab_type": "code",
        "colab": {
          "base_uri": "https://localhost:8080/",
          "height": 104
        },
        "outputId": "bf447abb-688c-4f0f-98cd-86e404cb114e"
      },
      "source": [
        "# create an array of numbers using arange method\n",
        "a=np.arange(100)\n",
        "print(a)"
      ],
      "execution_count": 92,
      "outputs": [
        {
          "output_type": "stream",
          "text": [
            "[ 0  1  2  3  4  5  6  7  8  9 10 11 12 13 14 15 16 17 18 19 20 21 22 23\n",
            " 24 25 26 27 28 29 30 31 32 33 34 35 36 37 38 39 40 41 42 43 44 45 46 47\n",
            " 48 49 50 51 52 53 54 55 56 57 58 59 60 61 62 63 64 65 66 67 68 69 70 71\n",
            " 72 73 74 75 76 77 78 79 80 81 82 83 84 85 86 87 88 89 90 91 92 93 94 95\n",
            " 96 97 98 99]\n"
          ],
          "name": "stdout"
        }
      ]
    },
    {
      "cell_type": "markdown",
      "metadata": {
        "id": "1WEBsS09U67r",
        "colab_type": "text"
      },
      "source": [
        "### Generating **n** numbers between a range\n",
        "- using function linspace"
      ]
    },
    {
      "cell_type": "code",
      "metadata": {
        "id": "DuwEoYxVlbo9",
        "colab_type": "code",
        "colab": {
          "base_uri": "https://localhost:8080/",
          "height": 52
        },
        "outputId": "9b930896-6955-498a-c431-34b908339a83"
      },
      "source": [
        "# use linspace method to create numpy array (start,end,no.of values)\n",
        "np.linspace(0,1,10)\n",
        "\n"
      ],
      "execution_count": 123,
      "outputs": [
        {
          "output_type": "execute_result",
          "data": {
            "text/plain": [
              "array([0.        , 0.11111111, 0.22222222, 0.33333333, 0.44444444,\n",
              "       0.55555556, 0.66666667, 0.77777778, 0.88888889, 1.        ])"
            ]
          },
          "metadata": {
            "tags": []
          },
          "execution_count": 123
        }
      ]
    },
    {
      "cell_type": "markdown",
      "metadata": {
        "id": "IqWD7m5vU67v",
        "colab_type": "text"
      },
      "source": [
        "### Generating random sample of given dimensions\n",
        "**Note - Random numbers are generated between 0 to 1. Multiply them with an appropriate factor to get required outcome.**"
      ]
    },
    {
      "cell_type": "code",
      "metadata": {
        "id": "wH1Ka76omFvW",
        "colab_type": "code",
        "colab": {
          "base_uri": "https://localhost:8080/",
          "height": 52
        },
        "outputId": "0ea68d1e-9757-4bc1-a063-91afd248daf7"
      },
      "source": [
        "# creating numpy arrays of required dimensions with random numbers..\n",
        "a=np.random.randn(2,3)\n",
        "print(a)"
      ],
      "execution_count": 127,
      "outputs": [
        {
          "output_type": "stream",
          "text": [
            "[[ 1.43083928  1.17220549 -0.0884384 ]\n",
            " [ 0.11554511  0.35206529 -2.0206446 ]]\n"
          ],
          "name": "stdout"
        }
      ]
    },
    {
      "cell_type": "code",
      "metadata": {
        "id": "K_ASnsMonkJn",
        "colab_type": "code",
        "colab": {
          "base_uri": "https://localhost:8080/",
          "height": 52
        },
        "outputId": "496c3658-3d57-468f-fd1b-cd1fdda99f70"
      },
      "source": [
        "# What if we want to create an array with random numbers between 1 to 100\n",
        "a=np.random.random([2,3])*100\n",
        "print(a)"
      ],
      "execution_count": 159,
      "outputs": [
        {
          "output_type": "stream",
          "text": [
            "[[ 6.93569335 38.99733767 48.58039023]\n",
            " [33.88153759  2.64029968 25.76850332]]\n"
          ],
          "name": "stdout"
        }
      ]
    },
    {
      "cell_type": "markdown",
      "metadata": {
        "id": "vNmovw_wU671",
        "colab_type": "text"
      },
      "source": [
        "### Basic array operations\n",
        "**Note - The operations are vectorised**\n"
      ]
    },
    {
      "cell_type": "code",
      "metadata": {
        "id": "ua3b456JoPUm",
        "colab_type": "code",
        "colab": {
          "base_uri": "https://localhost:8080/",
          "height": 69
        },
        "outputId": "31ec2d70-6e73-4789-8424-975b5f464bf4"
      },
      "source": [
        "# let's create two numpy arrays \n",
        "a=np.array([[1,2,3,4],[7,1,2,3]])\n",
        "b=np.array([4,5,6,8])\n",
        "print(a)\n",
        "print(b)\n"
      ],
      "execution_count": 177,
      "outputs": [
        {
          "output_type": "stream",
          "text": [
            "[[1 2 3 4]\n",
            " [7 1 2 3]]\n",
            "[4 5 6 8]\n"
          ],
          "name": "stdout"
        }
      ]
    },
    {
      "cell_type": "code",
      "metadata": {
        "id": "hsG1jcCbq9dR",
        "colab_type": "code",
        "colab": {
          "base_uri": "https://localhost:8080/",
          "height": 191
        },
        "outputId": "6deefad4-f1f1-41e6-b948-485f20fe47e3"
      },
      "source": [
        "# we can do all arithmetic operations on numpy arrays with ease +,-,/,*,%\n",
        "print(a+b)\n",
        "print(a-b)\n",
        "print(a*b)\n",
        "print(a/b)\n",
        "print(a%b)"
      ],
      "execution_count": 178,
      "outputs": [
        {
          "output_type": "stream",
          "text": [
            "[[ 5  7  9 12]\n",
            " [11  6  8 11]]\n",
            "[[-3 -3 -3 -4]\n",
            " [ 3 -4 -4 -5]]\n",
            "[[ 4 10 18 32]\n",
            " [28  5 12 24]]\n",
            "[[0.25       0.4        0.5        0.5       ]\n",
            " [1.75       0.2        0.33333333 0.375     ]]\n",
            "[[1 2 3 4]\n",
            " [3 1 2 3]]\n"
          ],
          "name": "stdout"
        }
      ]
    },
    {
      "cell_type": "code",
      "metadata": {
        "id": "aqeNS24ard_K",
        "colab_type": "code",
        "colab": {
          "base_uri": "https://localhost:8080/",
          "height": 243
        },
        "outputId": "4a87f6db-5f48-4652-b2af-6256e6cfab1a"
      },
      "source": [
        "# Broadcasting or recycling...\n",
        "a=np.array([[1,2,3],[4,5,6]])\n",
        "b=np.array([4,5,6,])\n",
        "print(a)\n",
        "print(b)\n",
        "print(a+b)\n",
        "print(a-b)\n",
        "print(a*b)\n",
        "print(a/b)\n",
        "print(a%b)\n",
        "\n",
        "\n",
        "\n"
      ],
      "execution_count": 179,
      "outputs": [
        {
          "output_type": "stream",
          "text": [
            "[[1 2 3]\n",
            " [4 5 6]]\n",
            "[4 5 6]\n",
            "[[ 5  7  9]\n",
            " [ 8 10 12]]\n",
            "[[-3 -3 -3]\n",
            " [ 0  0  0]]\n",
            "[[ 4 10 18]\n",
            " [16 25 36]]\n",
            "[[0.25 0.4  0.5 ]\n",
            " [1.   1.   1.  ]]\n",
            "[[1 2 3]\n",
            " [0 0 0]]\n"
          ],
          "name": "stdout"
        }
      ]
    },
    {
      "cell_type": "code",
      "metadata": {
        "id": "zZg2qIjRsfD0",
        "colab_type": "code",
        "colab": {
          "base_uri": "https://localhost:8080/",
          "height": 52
        },
        "outputId": "72d1ab57-d093-404e-dad5-fa92d4012c37"
      },
      "source": [
        "# Boolean operations\n",
        "a=np.array([1,2,3,4,5,6,7,8,9])\n",
        "print(a[1]==2)\n",
        "print(a[1]==5)"
      ],
      "execution_count": 183,
      "outputs": [
        {
          "output_type": "stream",
          "text": [
            "True\n",
            "False\n"
          ],
          "name": "stdout"
        }
      ]
    },
    {
      "cell_type": "markdown",
      "metadata": {
        "id": "a4L-7D3zsTqT",
        "colab_type": "text"
      },
      "source": [
        "#### Matrix multiplication"
      ]
    },
    {
      "cell_type": "code",
      "metadata": {
        "id": "phj42YOyr4fZ",
        "colab_type": "code",
        "colab": {
          "base_uri": "https://localhost:8080/",
          "height": 52
        },
        "outputId": "ff52e080-601d-49e1-e65a-164ab1364a7f"
      },
      "source": [
        "# use matmul function\n",
        "a=np.array([[1,2,3],[7,1,2]])\n",
        "b=np.array([[4,5],[6,7],[8,9]])\n",
        "print(np.matmul(a,b))\n",
        "\n",
        "\n"
      ],
      "execution_count": 195,
      "outputs": [
        {
          "output_type": "stream",
          "text": [
            "[[40 46]\n",
            " [50 60]]\n"
          ],
          "name": "stdout"
        }
      ]
    },
    {
      "cell_type": "markdown",
      "metadata": {
        "id": "S5JNiyviDIy6",
        "colab_type": "text"
      },
      "source": [
        "### Some array operations\n",
        "- max, min, sum, cumsum, sqrt, log etc"
      ]
    },
    {
      "cell_type": "code",
      "metadata": {
        "id": "3Mlfe-G6tty5",
        "colab_type": "code",
        "colab": {
          "base_uri": "https://localhost:8080/",
          "height": 34
        },
        "outputId": "d3bbaf56-812b-4800-c38c-90c876af93f5"
      },
      "source": [
        "print(a.max(),a.min(),a.sum(),a.cumsum())\n"
      ],
      "execution_count": 202,
      "outputs": [
        {
          "output_type": "stream",
          "text": [
            "7 1 16 [ 1  3  6 13 14 16]\n"
          ],
          "name": "stdout"
        }
      ]
    },
    {
      "cell_type": "markdown",
      "metadata": {
        "id": "Y_Gh5_8Cu9TB",
        "colab_type": "text"
      },
      "source": [
        "### Subsetting slicing and indexing\n",
        "* We can access the elements of numpy n-d arrays using indexing..\n",
        "* We can use numbers,array of numbers, boolean arrays as indices"
      ]
    },
    {
      "cell_type": "code",
      "metadata": {
        "id": "p8nVHJm_uhLa",
        "colab_type": "code",
        "colab": {
          "base_uri": "https://localhost:8080/",
          "height": 69
        },
        "outputId": "80733b78-1042-49a2-b698-9fc16ac69c7c"
      },
      "source": [
        "#let's create a 2-d array..\n",
        "a=np.array([[1,2,3],[7,1,2]])\n",
        "print(a)\n",
        "print(a[1)"
      ],
      "execution_count": 208,
      "outputs": [
        {
          "output_type": "stream",
          "text": [
            "[[1 2 3]\n",
            " [7 1 2]]\n",
            "[]\n"
          ],
          "name": "stdout"
        }
      ]
    },
    {
      "cell_type": "code",
      "metadata": {
        "id": "0vc04F_pv-JM",
        "colab_type": "code",
        "colab": {}
      },
      "source": [
        ""
      ],
      "execution_count": 0,
      "outputs": []
    },
    {
      "cell_type": "code",
      "metadata": {
        "id": "OCYQos6NwNvG",
        "colab_type": "code",
        "colab": {}
      },
      "source": [
        ""
      ],
      "execution_count": 0,
      "outputs": []
    },
    {
      "cell_type": "code",
      "metadata": {
        "id": "o2MOUJ7XwR-9",
        "colab_type": "code",
        "colab": {}
      },
      "source": [
        ""
      ],
      "execution_count": 0,
      "outputs": []
    },
    {
      "cell_type": "code",
      "metadata": {
        "id": "POdyvKJYwzUg",
        "colab_type": "code",
        "colab": {}
      },
      "source": [
        "# let's see boolean array indexing\n"
      ],
      "execution_count": 0,
      "outputs": []
    },
    {
      "cell_type": "code",
      "metadata": {
        "id": "ebwGsyQrxDUB",
        "colab_type": "code",
        "colab": {}
      },
      "source": [
        "# let's see the magic of boolean indexing...\n"
      ],
      "execution_count": 0,
      "outputs": []
    },
    {
      "cell_type": "code",
      "metadata": {
        "id": "88VvhebxxWxi",
        "colab_type": "code",
        "colab": {}
      },
      "source": [
        ""
      ],
      "execution_count": 0,
      "outputs": []
    },
    {
      "cell_type": "code",
      "metadata": {
        "id": "IRT6AchsxaAd",
        "colab_type": "code",
        "colab": {}
      },
      "source": [
        "# slicing\n"
      ],
      "execution_count": 0,
      "outputs": []
    },
    {
      "cell_type": "code",
      "metadata": {
        "id": "7UmK-EOBxy2l",
        "colab_type": "code",
        "colab": {}
      },
      "source": [
        ""
      ],
      "execution_count": 0,
      "outputs": []
    },
    {
      "cell_type": "markdown",
      "metadata": {
        "id": "7GQ4AY9Vx_Br",
        "colab_type": "text"
      },
      "source": [
        "**Remember slices of numpy array shares memory..**"
      ]
    },
    {
      "cell_type": "code",
      "metadata": {
        "id": "GBbRtiEsx3I_",
        "colab_type": "code",
        "colab": {}
      },
      "source": [
        ""
      ],
      "execution_count": 0,
      "outputs": []
    },
    {
      "cell_type": "code",
      "metadata": {
        "id": "x6cL7nbUyaTo",
        "colab_type": "code",
        "colab": {}
      },
      "source": [
        ""
      ],
      "execution_count": 0,
      "outputs": []
    },
    {
      "cell_type": "code",
      "metadata": {
        "id": "vswvFo7dyoO7",
        "colab_type": "code",
        "colab": {}
      },
      "source": [
        ""
      ],
      "execution_count": 0,
      "outputs": []
    },
    {
      "cell_type": "code",
      "metadata": {
        "id": "K8WjSQhU64tw",
        "colab_type": "code",
        "colab": {}
      },
      "source": [
        ""
      ],
      "execution_count": 0,
      "outputs": []
    },
    {
      "cell_type": "code",
      "metadata": {
        "id": "K0SeN4jO64q7",
        "colab_type": "code",
        "colab": {}
      },
      "source": [
        ""
      ],
      "execution_count": 0,
      "outputs": []
    },
    {
      "cell_type": "code",
      "metadata": {
        "id": "0PNy_9eX64nc",
        "colab_type": "code",
        "colab": {}
      },
      "source": [
        ""
      ],
      "execution_count": 0,
      "outputs": []
    },
    {
      "cell_type": "code",
      "metadata": {
        "id": "i4BJ_Sc164kw",
        "colab_type": "code",
        "colab": {}
      },
      "source": [
        ""
      ],
      "execution_count": 0,
      "outputs": []
    },
    {
      "cell_type": "markdown",
      "metadata": {
        "id": "MbCF_-g866q7",
        "colab_type": "text"
      },
      "source": [
        "<centre> ![alt text](https://encrypted-tbn0.gstatic.com/images?q=tbn%3AANd9GcTPd1SAx9N15GzpLNBp5gN_aAucYdFvj3ic9BpZVR48QW6qVOTu)\n",
        "## ***yeah!***"
      ]
    },
    {
      "cell_type": "code",
      "metadata": {
        "id": "ErdlQb_77V2d",
        "colab_type": "code",
        "colab": {}
      },
      "source": [
        ""
      ],
      "execution_count": 0,
      "outputs": []
    }
  ]
}